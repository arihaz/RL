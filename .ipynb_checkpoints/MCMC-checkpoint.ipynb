{
 "cells": [
  {
   "cell_type": "markdown",
   "metadata": {},
   "source": [
    "# "
   ]
  },
  {
   "cell_type": "code",
   "execution_count": 2,
   "metadata": {
    "collapsed": false
   },
   "outputs": [],
   "source": [
    "import matplotlib.pyplot as plt\n",
    "%matplotlib inline\n",
    "import pymc3 as pm\n",
    "import theano.tensor as T\n",
    "import pandas as pd"
   ]
  },
  {
   "cell_type": "code",
   "execution_count": 3,
   "metadata": {
    "collapsed": false
   },
   "outputs": [
    {
     "name": "stderr",
     "output_type": "stream",
     "text": [
      "/Users/arielhaziza/anaconda/lib/python2.7/site-packages/ipykernel/__main__.py:14: FutureWarning: comparison to `None` will result in an elementwise object comparison in the future.\n",
      "/Users/arielhaziza/anaconda/lib/python2.7/site-packages/ipykernel/__main__.py:44: FutureWarning: comparison to `None` will result in an elementwise object comparison in the future.\n"
     ]
    },
    {
     "name": "stdout",
     "output_type": "stream",
     "text": [
      "0\n",
      "y ~ -1+X0+X1+X2+X3+X4+X5+X6+X7\n"
     ]
    },
    {
     "name": "stderr",
     "output_type": "stream",
     "text": [
      "100%|██████████| 500/500 [00:01<00:00, 298.65it/s]\n"
     ]
    },
    {
     "name": "stdout",
     "output_type": "stream",
     "text": [
      "1\n",
      "y ~ -1+X0+X1+X2+X3+X4+X5+X6+X7\n"
     ]
    },
    {
     "name": "stderr",
     "output_type": "stream",
     "text": [
      "100%|██████████| 500/500 [00:01<00:00, 321.80it/s]\n"
     ]
    },
    {
     "name": "stdout",
     "output_type": "stream",
     "text": [
      "2\n",
      "y ~ -1+X0+X1+X2+X3+X4+X5+X6+X7\n"
     ]
    },
    {
     "name": "stderr",
     "output_type": "stream",
     "text": [
      "100%|██████████| 500/500 [00:01<00:00, 262.72it/s]\n"
     ]
    },
    {
     "name": "stdout",
     "output_type": "stream",
     "text": [
      "3\n",
      "y ~ -1+X0+X1+X2+X3+X4+X5+X6+X7\n"
     ]
    },
    {
     "name": "stderr",
     "output_type": "stream",
     "text": [
      "100%|██████████| 500/500 [00:01<00:00, 318.82it/s]\n"
     ]
    },
    {
     "name": "stdout",
     "output_type": "stream",
     "text": [
      "4\n",
      "y ~ -1+X0+X1+X2+X3+X4+X5+X6+X7\n"
     ]
    },
    {
     "name": "stderr",
     "output_type": "stream",
     "text": [
      "100%|██████████| 500/500 [00:01<00:00, 317.70it/s]\n"
     ]
    },
    {
     "name": "stdout",
     "output_type": "stream",
     "text": [
      "5\n",
      "y ~ -1+X0+X1+X2+X3+X4+X5+X6+X7\n"
     ]
    },
    {
     "name": "stderr",
     "output_type": "stream",
     "text": [
      "100%|██████████| 500/500 [00:01<00:00, 316.49it/s]\n"
     ]
    },
    {
     "name": "stdout",
     "output_type": "stream",
     "text": [
      "6\n",
      "y ~ -1+X0+X1+X2+X3+X4+X5+X6+X7\n"
     ]
    },
    {
     "name": "stderr",
     "output_type": "stream",
     "text": [
      "100%|██████████| 500/500 [00:01<00:00, 313.45it/s]\n"
     ]
    },
    {
     "name": "stdout",
     "output_type": "stream",
     "text": [
      "7\n",
      "y ~ -1+X0+X1+X2+X3+X4+X5+X6+X7\n"
     ]
    },
    {
     "name": "stderr",
     "output_type": "stream",
     "text": [
      "100%|██████████| 500/500 [00:01<00:00, 316.09it/s]\n"
     ]
    },
    {
     "name": "stdout",
     "output_type": "stream",
     "text": [
      "8\n",
      "y ~ -1+X0+X1+X2+X3+X4+X5+X6+X7\n"
     ]
    },
    {
     "name": "stderr",
     "output_type": "stream",
     "text": [
      "100%|██████████| 500/500 [00:01<00:00, 317.76it/s]\n"
     ]
    },
    {
     "name": "stdout",
     "output_type": "stream",
     "text": [
      "9\n",
      "y ~ -1+X0+X1+X2+X3+X4+X5+X6+X7\n"
     ]
    },
    {
     "name": "stderr",
     "output_type": "stream",
     "text": [
      "100%|██████████| 500/500 [00:01<00:00, 318.02it/s]\n"
     ]
    },
    {
     "name": "stdout",
     "output_type": "stream",
     "text": [
      "10\n",
      "y ~ -1+X0+X1+X2+X3+X4+X5+X6+X7\n"
     ]
    },
    {
     "name": "stderr",
     "output_type": "stream",
     "text": [
      "100%|██████████| 500/500 [00:01<00:00, 323.06it/s]\n"
     ]
    },
    {
     "name": "stdout",
     "output_type": "stream",
     "text": [
      "11\n",
      "y ~ -1+X0+X1+X2+X3+X4+X5+X6+X7\n"
     ]
    },
    {
     "name": "stderr",
     "output_type": "stream",
     "text": [
      "100%|██████████| 500/500 [00:01<00:00, 308.58it/s]\n"
     ]
    },
    {
     "name": "stdout",
     "output_type": "stream",
     "text": [
      "12\n",
      "y ~ -1+X0+X1+X2+X3+X4+X5+X6+X7\n"
     ]
    },
    {
     "name": "stderr",
     "output_type": "stream",
     "text": [
      "100%|██████████| 500/500 [00:01<00:00, 315.62it/s]\n"
     ]
    },
    {
     "name": "stdout",
     "output_type": "stream",
     "text": [
      "13\n",
      "y ~ -1+X0+X1+X2+X3+X4+X5+X6+X7\n"
     ]
    },
    {
     "name": "stderr",
     "output_type": "stream",
     "text": [
      "100%|██████████| 500/500 [00:01<00:00, 311.63it/s]\n"
     ]
    },
    {
     "name": "stdout",
     "output_type": "stream",
     "text": [
      "14\n",
      "y ~ -1+X0+X1+X2+X3+X4+X5+X6+X7\n"
     ]
    },
    {
     "name": "stderr",
     "output_type": "stream",
     "text": [
      "100%|██████████| 500/500 [00:01<00:00, 304.44it/s]\n"
     ]
    },
    {
     "name": "stdout",
     "output_type": "stream",
     "text": [
      "15\n",
      "y ~ -1+X0+X1+X2+X3+X4+X5+X6+X7\n"
     ]
    },
    {
     "name": "stderr",
     "output_type": "stream",
     "text": [
      "100%|██████████| 500/500 [00:01<00:00, 277.99it/s]\n"
     ]
    },
    {
     "name": "stdout",
     "output_type": "stream",
     "text": [
      "16\n",
      "y ~ -1+X0+X1+X2+X3+X4+X5+X6+X7\n"
     ]
    },
    {
     "name": "stderr",
     "output_type": "stream",
     "text": [
      "100%|██████████| 500/500 [00:01<00:00, 308.80it/s]\n"
     ]
    },
    {
     "name": "stdout",
     "output_type": "stream",
     "text": [
      "17\n",
      "y ~ -1+X0+X1+X2+X3+X4+X5+X6+X7\n"
     ]
    },
    {
     "name": "stderr",
     "output_type": "stream",
     "text": [
      "100%|██████████| 500/500 [00:01<00:00, 293.28it/s]\n"
     ]
    },
    {
     "name": "stdout",
     "output_type": "stream",
     "text": [
      "18\n",
      "y ~ -1+X0+X1+X2+X3+X4+X5+X6+X7\n"
     ]
    },
    {
     "name": "stderr",
     "output_type": "stream",
     "text": [
      "100%|██████████| 500/500 [00:01<00:00, 280.43it/s]\n"
     ]
    },
    {
     "name": "stdout",
     "output_type": "stream",
     "text": [
      "19\n",
      "y ~ -1+X0+X1+X2+X3+X4+X5+X6+X7\n"
     ]
    },
    {
     "name": "stderr",
     "output_type": "stream",
     "text": [
      "100%|██████████| 500/500 [00:01<00:00, 300.82it/s]\n"
     ]
    },
    {
     "name": "stdout",
     "output_type": "stream",
     "text": [
      "20\n",
      "y ~ -1+X0+X1+X2+X3+X4+X5+X6+X7\n"
     ]
    },
    {
     "name": "stderr",
     "output_type": "stream",
     "text": [
      "100%|██████████| 500/500 [00:01<00:00, 281.38it/s]\n"
     ]
    },
    {
     "name": "stdout",
     "output_type": "stream",
     "text": [
      "21\n",
      "y ~ -1+X0+X1+X2+X3+X4+X5+X6+X7\n"
     ]
    },
    {
     "name": "stderr",
     "output_type": "stream",
     "text": [
      "100%|██████████| 500/500 [00:01<00:00, 287.58it/s]\n"
     ]
    },
    {
     "name": "stdout",
     "output_type": "stream",
     "text": [
      "22\n",
      "y ~ -1+X0+X1+X2+X3+X4+X5+X6+X7\n"
     ]
    },
    {
     "name": "stderr",
     "output_type": "stream",
     "text": [
      "100%|██████████| 500/500 [00:01<00:00, 302.54it/s]\n"
     ]
    },
    {
     "name": "stdout",
     "output_type": "stream",
     "text": [
      "23\n",
      "y ~ -1+X0+X1+X2+X3+X4+X5+X6+X7\n"
     ]
    },
    {
     "name": "stderr",
     "output_type": "stream",
     "text": [
      "100%|██████████| 500/500 [00:01<00:00, 251.27it/s]\n"
     ]
    },
    {
     "name": "stdout",
     "output_type": "stream",
     "text": [
      "24\n",
      "y ~ -1+X0+X1+X2+X3+X4+X5+X6+X7\n"
     ]
    },
    {
     "name": "stderr",
     "output_type": "stream",
     "text": [
      "100%|██████████| 500/500 [00:01<00:00, 295.36it/s]\n"
     ]
    },
    {
     "name": "stdout",
     "output_type": "stream",
     "text": [
      "25\n",
      "y ~ -1+X0+X1+X2+X3+X4+X5+X6+X7\n"
     ]
    },
    {
     "name": "stderr",
     "output_type": "stream",
     "text": [
      "100%|██████████| 500/500 [00:01<00:00, 297.81it/s]\n"
     ]
    },
    {
     "name": "stdout",
     "output_type": "stream",
     "text": [
      "26\n",
      "y ~ -1+X0+X1+X2+X3+X4+X5+X6+X7\n"
     ]
    },
    {
     "name": "stderr",
     "output_type": "stream",
     "text": [
      "100%|██████████| 500/500 [00:01<00:00, 303.45it/s]\n"
     ]
    },
    {
     "name": "stdout",
     "output_type": "stream",
     "text": [
      "27\n",
      "y ~ -1+X0+X1+X2+X3+X4+X5+X6+X7\n"
     ]
    },
    {
     "name": "stderr",
     "output_type": "stream",
     "text": [
      "100%|██████████| 500/500 [00:01<00:00, 287.84it/s]\n"
     ]
    },
    {
     "name": "stdout",
     "output_type": "stream",
     "text": [
      "28\n",
      "y ~ -1+X0+X1+X2+X3+X4+X5+X6+X7\n"
     ]
    },
    {
     "name": "stderr",
     "output_type": "stream",
     "text": [
      "100%|██████████| 500/500 [00:01<00:00, 308.72it/s]\n"
     ]
    },
    {
     "name": "stdout",
     "output_type": "stream",
     "text": [
      "29\n",
      "y ~ -1+X0+X1+X2+X3+X4+X5+X6+X7\n"
     ]
    },
    {
     "name": "stderr",
     "output_type": "stream",
     "text": [
      "100%|██████████| 500/500 [00:01<00:00, 297.99it/s]\n"
     ]
    },
    {
     "name": "stdout",
     "output_type": "stream",
     "text": [
      "30\n",
      "y ~ -1+X0+X1+X2+X3+X4+X5+X6+X7\n"
     ]
    },
    {
     "name": "stderr",
     "output_type": "stream",
     "text": [
      "100%|██████████| 500/500 [00:01<00:00, 291.49it/s]\n"
     ]
    },
    {
     "name": "stdout",
     "output_type": "stream",
     "text": [
      "31\n",
      "y ~ -1+X0+X1+X2+X3+X4+X5+X6+X7\n"
     ]
    },
    {
     "name": "stderr",
     "output_type": "stream",
     "text": [
      "100%|██████████| 500/500 [00:01<00:00, 317.10it/s]\n"
     ]
    },
    {
     "name": "stdout",
     "output_type": "stream",
     "text": [
      "32\n",
      "y ~ -1+X0+X1+X2+X3+X4+X5+X6+X7\n"
     ]
    },
    {
     "name": "stderr",
     "output_type": "stream",
     "text": [
      "100%|██████████| 500/500 [00:01<00:00, 298.23it/s]\n"
     ]
    },
    {
     "name": "stdout",
     "output_type": "stream",
     "text": [
      "33\n",
      "y ~ -1+X0+X1+X2+X3+X4+X5+X6+X7\n"
     ]
    },
    {
     "name": "stderr",
     "output_type": "stream",
     "text": [
      "100%|██████████| 500/500 [00:01<00:00, 315.16it/s]\n"
     ]
    },
    {
     "name": "stdout",
     "output_type": "stream",
     "text": [
      "34\n",
      "y ~ -1+X0+X1+X2+X3+X4+X5+X6+X7\n"
     ]
    },
    {
     "name": "stderr",
     "output_type": "stream",
     "text": [
      "100%|██████████| 500/500 [00:01<00:00, 310.03it/s]\n"
     ]
    },
    {
     "name": "stdout",
     "output_type": "stream",
     "text": [
      "35\n",
      "y ~ -1+X0+X1+X2+X3+X4+X5+X6+X7\n"
     ]
    },
    {
     "name": "stderr",
     "output_type": "stream",
     "text": [
      "100%|██████████| 500/500 [00:01<00:00, 317.55it/s]\n"
     ]
    },
    {
     "name": "stdout",
     "output_type": "stream",
     "text": [
      "36\n",
      "y ~ -1+X0+X1+X2+X3+X4+X5+X6+X7\n"
     ]
    },
    {
     "name": "stderr",
     "output_type": "stream",
     "text": [
      "100%|██████████| 500/500 [00:01<00:00, 296.80it/s]\n"
     ]
    },
    {
     "name": "stdout",
     "output_type": "stream",
     "text": [
      "37\n",
      "y ~ -1+X0+X1+X2+X3+X4+X5+X6+X7\n"
     ]
    },
    {
     "name": "stderr",
     "output_type": "stream",
     "text": [
      "100%|██████████| 500/500 [00:01<00:00, 315.25it/s]\n"
     ]
    },
    {
     "name": "stdout",
     "output_type": "stream",
     "text": [
      "38\n",
      "y ~ -1+X0+X1+X2+X3+X4+X5+X6+X7\n"
     ]
    },
    {
     "name": "stderr",
     "output_type": "stream",
     "text": [
      "100%|██████████| 500/500 [00:02<00:00, 206.44it/s]\n"
     ]
    },
    {
     "name": "stdout",
     "output_type": "stream",
     "text": [
      "39\n",
      "y ~ -1+X0+X1+X2+X3+X4+X5+X6+X7\n"
     ]
    },
    {
     "name": "stderr",
     "output_type": "stream",
     "text": [
      "100%|██████████| 500/500 [00:01<00:00, 324.59it/s]\n"
     ]
    },
    {
     "name": "stdout",
     "output_type": "stream",
     "text": [
      "40\n",
      "y ~ -1+X0+X1+X2+X3+X4+X5+X6+X7\n"
     ]
    },
    {
     "name": "stderr",
     "output_type": "stream",
     "text": [
      "100%|██████████| 500/500 [00:01<00:00, 306.42it/s]\n"
     ]
    },
    {
     "name": "stdout",
     "output_type": "stream",
     "text": [
      "41\n",
      "y ~ -1+X0+X1+X2+X3+X4+X5+X6+X7\n"
     ]
    },
    {
     "name": "stderr",
     "output_type": "stream",
     "text": [
      "100%|██████████| 500/500 [00:01<00:00, 317.37it/s]\n"
     ]
    },
    {
     "name": "stdout",
     "output_type": "stream",
     "text": [
      "42\n",
      "y ~ -1+X0+X1+X2+X3+X4+X5+X6+X7\n"
     ]
    },
    {
     "name": "stderr",
     "output_type": "stream",
     "text": [
      "100%|██████████| 500/500 [00:01<00:00, 322.07it/s]\n"
     ]
    },
    {
     "name": "stdout",
     "output_type": "stream",
     "text": [
      "43\n",
      "y ~ -1+X0+X1+X2+X3+X4+X5+X6+X7\n"
     ]
    },
    {
     "name": "stderr",
     "output_type": "stream",
     "text": [
      "100%|██████████| 500/500 [00:01<00:00, 322.76it/s]\n"
     ]
    },
    {
     "name": "stdout",
     "output_type": "stream",
     "text": [
      "44\n",
      "y ~ -1+X0+X1+X2+X3+X4+X5+X6+X7\n"
     ]
    },
    {
     "name": "stderr",
     "output_type": "stream",
     "text": [
      "100%|██████████| 500/500 [00:01<00:00, 321.91it/s]\n"
     ]
    },
    {
     "name": "stdout",
     "output_type": "stream",
     "text": [
      "45\n",
      "y ~ -1+X0+X1+X2+X3+X4+X5+X6+X7\n"
     ]
    },
    {
     "name": "stderr",
     "output_type": "stream",
     "text": [
      "100%|██████████| 500/500 [00:01<00:00, 302.60it/s]\n"
     ]
    },
    {
     "name": "stdout",
     "output_type": "stream",
     "text": [
      "46\n",
      "y ~ -1+X0+X1+X2+X3+X4+X5+X6+X7\n"
     ]
    },
    {
     "name": "stderr",
     "output_type": "stream",
     "text": [
      "100%|██████████| 500/500 [00:01<00:00, 318.56it/s]\n"
     ]
    },
    {
     "name": "stdout",
     "output_type": "stream",
     "text": [
      "47\n",
      "y ~ -1+X0+X1+X2+X3+X4+X5+X6+X7\n"
     ]
    },
    {
     "name": "stderr",
     "output_type": "stream",
     "text": [
      "100%|██████████| 500/500 [00:01<00:00, 318.88it/s]\n"
     ]
    },
    {
     "name": "stdout",
     "output_type": "stream",
     "text": [
      "48\n",
      "y ~ -1+X0+X1+X2+X3+X4+X5+X6+X7\n"
     ]
    },
    {
     "name": "stderr",
     "output_type": "stream",
     "text": [
      "100%|██████████| 500/500 [00:01<00:00, 317.11it/s]\n"
     ]
    },
    {
     "name": "stdout",
     "output_type": "stream",
     "text": [
      "49\n",
      "y ~ -1+X0+X1+X2+X3+X4+X5+X6+X7\n"
     ]
    },
    {
     "name": "stderr",
     "output_type": "stream",
     "text": [
      "100%|██████████| 500/500 [00:01<00:00, 287.04it/s]\n"
     ]
    },
    {
     "name": "stdout",
     "output_type": "stream",
     "text": [
      "50\n",
      "y ~ -1+X0+X1+X2+X3+X4+X5+X6+X7\n"
     ]
    },
    {
     "name": "stderr",
     "output_type": "stream",
     "text": [
      "100%|██████████| 500/500 [00:01<00:00, 314.47it/s]\n"
     ]
    },
    {
     "name": "stdout",
     "output_type": "stream",
     "text": [
      "51\n",
      "y ~ -1+X0+X1+X2+X3+X4+X5+X6+X7\n"
     ]
    },
    {
     "name": "stderr",
     "output_type": "stream",
     "text": [
      "100%|██████████| 500/500 [00:01<00:00, 318.74it/s]\n"
     ]
    },
    {
     "name": "stdout",
     "output_type": "stream",
     "text": [
      "52\n",
      "y ~ -1+X0+X1+X2+X3+X4+X5+X6+X7\n"
     ]
    },
    {
     "name": "stderr",
     "output_type": "stream",
     "text": [
      "100%|██████████| 500/500 [00:01<00:00, 320.48it/s]\n"
     ]
    },
    {
     "name": "stdout",
     "output_type": "stream",
     "text": [
      "53\n",
      "y ~ -1+X0+X1+X2+X3+X4+X5+X6+X7\n"
     ]
    },
    {
     "name": "stderr",
     "output_type": "stream",
     "text": [
      "100%|██████████| 500/500 [00:01<00:00, 319.41it/s]\n"
     ]
    },
    {
     "name": "stdout",
     "output_type": "stream",
     "text": [
      "54\n",
      "y ~ -1+X0+X1+X2+X3+X4+X5+X6+X7\n"
     ]
    },
    {
     "name": "stderr",
     "output_type": "stream",
     "text": [
      "100%|██████████| 500/500 [00:01<00:00, 316.41it/s]\n"
     ]
    },
    {
     "name": "stdout",
     "output_type": "stream",
     "text": [
      "55\n",
      "y ~ -1+X0+X1+X2+X3+X4+X5+X6+X7\n"
     ]
    },
    {
     "name": "stderr",
     "output_type": "stream",
     "text": [
      "100%|██████████| 500/500 [00:01<00:00, 322.08it/s]\n"
     ]
    },
    {
     "name": "stdout",
     "output_type": "stream",
     "text": [
      "56\n",
      "y ~ -1+X0+X1+X2+X3+X4+X5+X6+X7\n"
     ]
    },
    {
     "name": "stderr",
     "output_type": "stream",
     "text": [
      "100%|██████████| 500/500 [00:01<00:00, 302.43it/s]\n"
     ]
    },
    {
     "name": "stdout",
     "output_type": "stream",
     "text": [
      "57\n",
      "y ~ -1+X0+X1+X2+X3+X4+X5+X6+X7\n"
     ]
    },
    {
     "name": "stderr",
     "output_type": "stream",
     "text": [
      "100%|██████████| 500/500 [00:01<00:00, 297.35it/s]\n"
     ]
    },
    {
     "name": "stdout",
     "output_type": "stream",
     "text": [
      "58\n",
      "y ~ -1+X0+X1+X2+X3+X4+X5+X6+X7\n"
     ]
    },
    {
     "name": "stderr",
     "output_type": "stream",
     "text": [
      "100%|██████████| 500/500 [00:01<00:00, 314.55it/s]\n"
     ]
    },
    {
     "name": "stdout",
     "output_type": "stream",
     "text": [
      "59\n",
      "y ~ -1+X0+X1+X2+X3+X4+X5+X6+X7\n"
     ]
    },
    {
     "name": "stderr",
     "output_type": "stream",
     "text": [
      "100%|██████████| 500/500 [00:01<00:00, 262.23it/s]\n"
     ]
    },
    {
     "name": "stdout",
     "output_type": "stream",
     "text": [
      "60\n",
      "y ~ -1+X0+X1+X2+X3+X4+X5+X6+X7\n"
     ]
    },
    {
     "name": "stderr",
     "output_type": "stream",
     "text": [
      "100%|██████████| 500/500 [00:01<00:00, 309.38it/s]\n"
     ]
    },
    {
     "name": "stdout",
     "output_type": "stream",
     "text": [
      "61\n",
      "y ~ -1+X0+X1+X2+X3+X4+X5+X6+X7\n"
     ]
    },
    {
     "name": "stderr",
     "output_type": "stream",
     "text": [
      "100%|██████████| 500/500 [00:01<00:00, 294.37it/s]\n"
     ]
    },
    {
     "name": "stdout",
     "output_type": "stream",
     "text": [
      "62\n",
      "y ~ -1+X0+X1+X2+X3+X4+X5+X6+X7\n"
     ]
    },
    {
     "name": "stderr",
     "output_type": "stream",
     "text": [
      "100%|██████████| 500/500 [00:01<00:00, 261.96it/s]\n"
     ]
    },
    {
     "name": "stdout",
     "output_type": "stream",
     "text": [
      "63\n",
      "y ~ -1+X0+X1+X2+X3+X4+X5+X6+X7\n"
     ]
    },
    {
     "name": "stderr",
     "output_type": "stream",
     "text": [
      "100%|██████████| 500/500 [00:01<00:00, 270.57it/s]\n"
     ]
    },
    {
     "name": "stdout",
     "output_type": "stream",
     "text": [
      "64\n",
      "y ~ -1+X0+X1+X2+X3+X4+X5+X6+X7\n"
     ]
    },
    {
     "name": "stderr",
     "output_type": "stream",
     "text": [
      "100%|██████████| 500/500 [00:01<00:00, 278.93it/s]\n"
     ]
    },
    {
     "name": "stdout",
     "output_type": "stream",
     "text": [
      "65\n",
      "y ~ -1+X0+X1+X2+X3+X4+X5+X6+X7\n"
     ]
    },
    {
     "name": "stderr",
     "output_type": "stream",
     "text": [
      "100%|██████████| 500/500 [00:01<00:00, 305.72it/s]\n"
     ]
    },
    {
     "name": "stdout",
     "output_type": "stream",
     "text": [
      "66\n",
      "y ~ -1+X0+X1+X2+X3+X4+X5+X6+X7\n"
     ]
    },
    {
     "name": "stderr",
     "output_type": "stream",
     "text": [
      "100%|██████████| 500/500 [00:01<00:00, 302.53it/s]\n"
     ]
    },
    {
     "name": "stdout",
     "output_type": "stream",
     "text": [
      "67\n",
      "y ~ -1+X0+X1+X2+X3+X4+X5+X6+X7\n"
     ]
    },
    {
     "name": "stderr",
     "output_type": "stream",
     "text": [
      "100%|██████████| 500/500 [00:01<00:00, 295.25it/s]\n"
     ]
    },
    {
     "name": "stdout",
     "output_type": "stream",
     "text": [
      "68\n",
      "y ~ -1+X0+X1+X2+X3+X4+X5+X6+X7\n"
     ]
    },
    {
     "name": "stderr",
     "output_type": "stream",
     "text": [
      "100%|██████████| 500/500 [00:01<00:00, 275.17it/s]\n"
     ]
    },
    {
     "name": "stdout",
     "output_type": "stream",
     "text": [
      "69\n",
      "y ~ -1+X0+X1+X2+X3+X4+X5+X6+X7\n"
     ]
    },
    {
     "name": "stderr",
     "output_type": "stream",
     "text": [
      "100%|██████████| 500/500 [00:01<00:00, 281.06it/s]\n"
     ]
    },
    {
     "name": "stdout",
     "output_type": "stream",
     "text": [
      "70\n",
      "y ~ -1+X0+X1+X2+X3+X4+X5+X6+X7\n"
     ]
    },
    {
     "name": "stderr",
     "output_type": "stream",
     "text": [
      "100%|██████████| 500/500 [00:01<00:00, 282.19it/s]\n"
     ]
    },
    {
     "name": "stdout",
     "output_type": "stream",
     "text": [
      "71\n",
      "y ~ -1+X0+X1+X2+X3+X4+X5+X6+X7\n"
     ]
    },
    {
     "name": "stderr",
     "output_type": "stream",
     "text": [
      "100%|██████████| 500/500 [00:01<00:00, 274.29it/s]\n"
     ]
    },
    {
     "name": "stdout",
     "output_type": "stream",
     "text": [
      "72\n",
      "y ~ -1+X0+X1+X2+X3+X4+X5+X6+X7\n"
     ]
    },
    {
     "name": "stderr",
     "output_type": "stream",
     "text": [
      "100%|██████████| 500/500 [00:01<00:00, 291.02it/s]\n"
     ]
    },
    {
     "name": "stdout",
     "output_type": "stream",
     "text": [
      "73\n",
      "y ~ -1+X0+X1+X2+X3+X4+X5+X6+X7\n"
     ]
    },
    {
     "name": "stderr",
     "output_type": "stream",
     "text": [
      "100%|██████████| 500/500 [00:01<00:00, 288.72it/s]\n"
     ]
    },
    {
     "name": "stdout",
     "output_type": "stream",
     "text": [
      "74\n",
      "y ~ -1+X0+X1+X2+X3+X4+X5+X6+X7\n"
     ]
    },
    {
     "name": "stderr",
     "output_type": "stream",
     "text": [
      "100%|██████████| 500/500 [00:01<00:00, 280.54it/s]\n"
     ]
    },
    {
     "name": "stdout",
     "output_type": "stream",
     "text": [
      "75\n",
      "y ~ -1+X0+X1+X2+X3+X4+X5+X6+X7\n"
     ]
    },
    {
     "name": "stderr",
     "output_type": "stream",
     "text": [
      "100%|██████████| 500/500 [00:01<00:00, 297.03it/s]\n"
     ]
    },
    {
     "name": "stdout",
     "output_type": "stream",
     "text": [
      "76\n",
      "y ~ -1+X0+X1+X2+X3+X4+X5+X6+X7\n"
     ]
    },
    {
     "name": "stderr",
     "output_type": "stream",
     "text": [
      "100%|██████████| 500/500 [00:01<00:00, 270.01it/s]\n"
     ]
    },
    {
     "name": "stdout",
     "output_type": "stream",
     "text": [
      "77\n",
      "y ~ -1+X0+X1+X2+X3+X4+X5+X6+X7\n"
     ]
    },
    {
     "name": "stderr",
     "output_type": "stream",
     "text": [
      "100%|██████████| 500/500 [00:01<00:00, 289.32it/s]\n"
     ]
    },
    {
     "name": "stdout",
     "output_type": "stream",
     "text": [
      "78\n",
      "y ~ -1+X0+X1+X2+X3+X4+X5+X6+X7\n"
     ]
    },
    {
     "name": "stderr",
     "output_type": "stream",
     "text": [
      "100%|██████████| 500/500 [00:02<00:00, 244.41it/s]\n"
     ]
    },
    {
     "name": "stdout",
     "output_type": "stream",
     "text": [
      "79\n",
      "y ~ -1+X0+X1+X2+X3+X4+X5+X6+X7\n"
     ]
    },
    {
     "name": "stderr",
     "output_type": "stream",
     "text": [
      "100%|██████████| 500/500 [00:01<00:00, 290.17it/s]\n"
     ]
    },
    {
     "name": "stdout",
     "output_type": "stream",
     "text": [
      "80\n",
      "y ~ -1+X0+X1+X2+X3+X4+X5+X6+X7\n"
     ]
    },
    {
     "name": "stderr",
     "output_type": "stream",
     "text": [
      "100%|██████████| 500/500 [00:01<00:00, 285.98it/s]\n"
     ]
    },
    {
     "name": "stdout",
     "output_type": "stream",
     "text": [
      "81\n",
      "y ~ -1+X0+X1+X2+X3+X4+X5+X6+X7\n"
     ]
    },
    {
     "name": "stderr",
     "output_type": "stream",
     "text": [
      "100%|██████████| 500/500 [00:01<00:00, 287.14it/s]\n"
     ]
    },
    {
     "name": "stdout",
     "output_type": "stream",
     "text": [
      "82\n",
      "y ~ -1+X0+X1+X2+X3+X4+X5+X6+X7\n"
     ]
    },
    {
     "name": "stderr",
     "output_type": "stream",
     "text": [
      "100%|██████████| 500/500 [00:01<00:00, 283.59it/s]\n"
     ]
    },
    {
     "name": "stdout",
     "output_type": "stream",
     "text": [
      "83\n",
      "y ~ -1+X0+X1+X2+X3+X4+X5+X6+X7\n"
     ]
    },
    {
     "name": "stderr",
     "output_type": "stream",
     "text": [
      "100%|██████████| 500/500 [00:01<00:00, 286.76it/s]\n"
     ]
    },
    {
     "name": "stdout",
     "output_type": "stream",
     "text": [
      "84\n",
      "y ~ -1+X0+X1+X2+X3+X4+X5+X6+X7\n"
     ]
    },
    {
     "name": "stderr",
     "output_type": "stream",
     "text": [
      "100%|██████████| 500/500 [00:02<00:00, 243.36it/s]\n"
     ]
    },
    {
     "name": "stdout",
     "output_type": "stream",
     "text": [
      "85\n",
      "y ~ -1+X0+X1+X2+X3+X4+X5+X6+X7\n"
     ]
    },
    {
     "name": "stderr",
     "output_type": "stream",
     "text": [
      "100%|██████████| 500/500 [00:01<00:00, 276.94it/s]\n"
     ]
    },
    {
     "name": "stdout",
     "output_type": "stream",
     "text": [
      "86\n",
      "y ~ -1+X0+X1+X2+X3+X4+X5+X6+X7\n"
     ]
    },
    {
     "name": "stderr",
     "output_type": "stream",
     "text": [
      "100%|██████████| 500/500 [00:01<00:00, 289.77it/s]\n"
     ]
    },
    {
     "name": "stdout",
     "output_type": "stream",
     "text": [
      "87\n",
      "y ~ -1+X0+X1+X2+X3+X4+X5+X6+X7\n"
     ]
    },
    {
     "name": "stderr",
     "output_type": "stream",
     "text": [
      "100%|██████████| 500/500 [00:02<00:00, 227.22it/s]\n"
     ]
    },
    {
     "name": "stdout",
     "output_type": "stream",
     "text": [
      "88\n",
      "y ~ -1+X0+X1+X2+X3+X4+X5+X6+X7\n"
     ]
    },
    {
     "name": "stderr",
     "output_type": "stream",
     "text": [
      "100%|██████████| 500/500 [00:01<00:00, 250.45it/s]\n"
     ]
    },
    {
     "name": "stdout",
     "output_type": "stream",
     "text": [
      "89\n",
      "y ~ -1+X0+X1+X2+X3+X4+X5+X6+X7\n"
     ]
    },
    {
     "name": "stderr",
     "output_type": "stream",
     "text": [
      "100%|██████████| 500/500 [00:01<00:00, 284.74it/s]\n"
     ]
    },
    {
     "name": "stdout",
     "output_type": "stream",
     "text": [
      "90\n",
      "y ~ -1+X0+X1+X2+X3+X4+X5+X6+X7\n"
     ]
    },
    {
     "name": "stderr",
     "output_type": "stream",
     "text": [
      "100%|██████████| 500/500 [00:01<00:00, 296.05it/s]\n"
     ]
    },
    {
     "name": "stdout",
     "output_type": "stream",
     "text": [
      "91\n",
      "y ~ -1+X0+X1+X2+X3+X4+X5+X6+X7\n"
     ]
    },
    {
     "name": "stderr",
     "output_type": "stream",
     "text": [
      "100%|██████████| 500/500 [00:01<00:00, 315.73it/s]\n"
     ]
    },
    {
     "name": "stdout",
     "output_type": "stream",
     "text": [
      "92\n",
      "y ~ -1+X0+X1+X2+X3+X4+X5+X6+X7\n"
     ]
    },
    {
     "name": "stderr",
     "output_type": "stream",
     "text": [
      "100%|██████████| 500/500 [00:02<00:00, 245.00it/s]\n"
     ]
    },
    {
     "name": "stdout",
     "output_type": "stream",
     "text": [
      "93\n",
      "y ~ -1+X0+X1+X2+X3+X4+X5+X6+X7\n"
     ]
    },
    {
     "name": "stderr",
     "output_type": "stream",
     "text": [
      "100%|██████████| 500/500 [00:02<00:00, 174.30it/s]\n"
     ]
    },
    {
     "name": "stdout",
     "output_type": "stream",
     "text": [
      "94\n",
      "y ~ -1+X0+X1+X2+X3+X4+X5+X6+X7\n"
     ]
    },
    {
     "name": "stderr",
     "output_type": "stream",
     "text": [
      "100%|██████████| 500/500 [00:01<00:00, 258.94it/s]\n"
     ]
    }
   ],
   "source": [
    "import numpy as np\n",
    "from scipy.optimize import minimize\n",
    "import time\n",
    "np.random.seed(71)\n",
    "\n",
    "class Thompson_logistic(object):\n",
    "    def __init__(self,x_dim,dim,arm_num,lam=0.1,w_true=None):\n",
    "        self.x_dim = x_dim\n",
    "        self.arm_num = arm_num\n",
    "        self.dim = dim\n",
    "        self.lam = lam\n",
    "        self.m = np.zeros(dim)\n",
    "        self.q = np.ones(dim) * lam\n",
    "        if w_true == None:\n",
    "            self.w_true = np.random.normal(size=dim)\n",
    "        else:\n",
    "            self.w_true = w_true\n",
    "    \n",
    "    def sigm(x):\n",
    "        result=1/(1+np.exp(-x));\n",
    "        return result\n",
    "    \n",
    "    \n",
    "    def sample_weight(self):\n",
    "        self.w = np.random.normal(self.m,self.q ** (-1/2.),size = self.dim)\n",
    "\n",
    "    def get_loss(self,w,*args):\n",
    "        X,y = args\n",
    "        loss = 0.5 * (self.q * (w - self.m)).dot(w - self.m) + np.sum([np.log(1+np.exp(-1 * y[j] * w.dot(X[j]))) for j in range(y.shape[0])])\n",
    "        return loss\n",
    "\n",
    "    def get_grad(self,w,*args):\n",
    "        X,y = args\n",
    "        return self.q * (w - self.m) + -1 * np.array([y[j] *  X[j] * np.exp(-1 * y[j] * w.dot(X[j])) / (1. + np.exp(-1 * y[j] * w.dot(X[j]))) for j in range(y.shape[0])]).sum(axis=0) \n",
    "\n",
    "\n",
    "\n",
    "    def update_with_grad(self,X,y):\n",
    "        self.m = minimize(self.get_loss,self.w,args=(X,y),jac=self.get_grad,method=\"BFGS\").x\n",
    "        P = (1 + np.exp(-1 * X.dot(self.m))) ** (-1)\n",
    "        self.q = self.q + (P*(1-P)).dot(X ** 2)\n",
    "\n",
    "    def predict_proba(self,X,w=None,optimistic=0):\n",
    "        if w == None:\n",
    "            proba = 1 / (1 + np.exp(-1 * X.dot(self.w)))\n",
    "            if optimistic ==1:\n",
    "                temp = 1 / (1 + np.exp(-1 * X.dot(self.m)))\n",
    "                proba = np.maximum(proba,temp)\n",
    "            return np.array([1-proba , proba]).T\n",
    "        else:\n",
    "            proba = 1 / (1 + np.exp(-1 * X.dot(w)))\n",
    "            return np.array([1-proba , proba]).T\n",
    "\n",
    "            \n",
    "\n",
    "    def select_arm_conjugated(self,x,optimistic=0):\n",
    "        scores = np.zeros(self.arm_num)\n",
    "        for i in range(self.arm_num):\n",
    "            x[self.x_dim + i] = 1.\n",
    "            for j in range(self.x_dim):\n",
    "                x[self.x_dim + self.arm_num + j + self.x_dim * i] = x[j]\n",
    "            scores[i] = self.predict_proba(x,optimistic = optimistic)[1]\n",
    "            x[self.x_dim:] = 0.\n",
    "        best_arm = scores.argmax()\n",
    "        return best_arm\n",
    "\n",
    "    def sample_data(self):\n",
    "        x = np.zeros(self.dim)\n",
    "        x[:self.x_dim] = np.random.normal(size = self.x_dim)\n",
    "        return x\n",
    "    \n",
    "    def sample_label(self,x):\n",
    "        proba = self.predict_proba(x,self.w_true)[1]\n",
    "        return np.random.binomial(1,proba)\n",
    "\n",
    "    def feature_embed(self,x,arm):\n",
    "        x[self.x_dim + arm] = 1.\n",
    "        for j in range(self.x_dim):\n",
    "            x[self.x_dim + self.arm_num + j + self.x_dim * arm] = x[j]\n",
    "        return x\n",
    "\n",
    "    def MCMC(self,x,y,conv = 200,sampling = 1000):\n",
    "        data= pd.DataFrame(x)\n",
    "        data['y']= pd.DataFrame(y)\n",
    "        lis = ['X'+str(i) for i in range(0,x.shape[1])]\n",
    "        lis.append('y')\n",
    "        data.columns = lis\n",
    "        patsy = 'y ~ -1+'\n",
    "        for k in lis:\n",
    "            patsy = patsy + k + '+'\n",
    "        patsy = patsy[:-3]\n",
    "        with pm.Model() as logistic_model:\n",
    "            print(patsy)\n",
    "            pm.glm.glm(patsy, data, family=pm.glm.families.Binomial())\n",
    "            #start = pm.find_MAP()\n",
    "            start = self.w\n",
    "            #start = pm.find_MAP()\n",
    "            step = pm.HamiltonianMC()\n",
    "            trace = pm.sample(sampling, step, start, progressbar=True)\n",
    "            del lis[-1]\n",
    "            self.w =([np.mean(trace[k][conv:]) for k in lis])\n",
    "            return([np.mean(trace[k][conv:]) for k in lis])#,[np.std(trace[k][conv:]) for k in lis])\n",
    "\n",
    "start = time.time()\n",
    "\n",
    "T = 95\n",
    "n = 2\n",
    "arm_num = 2\n",
    "lam = 0.1; \n",
    "x_dim = 2; \n",
    "dim = x_dim + arm_num + arm_num*x_dim\n",
    "q = np.ones(dim)*lam\n",
    "m = np.zeros(dim) \n",
    "arm = np.random.randint(0, arm_num)\n",
    "w_true = np.random.normal(size=dim)\n",
    "\n",
    "\n",
    "ts_arms = np.zeros(T * n)\n",
    "ts_results = np.zeros(T * n)\n",
    "\n",
    "ts_arms_opt = np.zeros(T * n)\n",
    "ts_results_opt = np.zeros(T * n)\n",
    "\n",
    "ts_arms_mcmc = np.zeros(T * n)\n",
    "ts_results_mcmc = np.zeros(T * n)\n",
    "\n",
    "ts = Thompson_logistic(x_dim,dim,arm_num,lam,w_true)\n",
    "ts_opt = Thompson_logistic(x_dim,dim,arm_num,lam,w_true)\n",
    "ts_mcmc = Thompson_logistic(x_dim,dim,arm_num,lam,w_true)\n",
    "\n",
    "\n",
    "\n",
    "for t in range(T):\n",
    "    print(t)\n",
    "    \n",
    "    ts_X = np.zeros((n,dim))\n",
    "    ts_y = np.zeros(n)\n",
    "    \n",
    "    ts_X_opt = np.zeros((n,dim))\n",
    "    ts_y_opt = np.zeros(n)\n",
    "    \n",
    "    ts_X_mcmc = np.zeros((n,dim))\n",
    "    ts_y_mcmc = np.zeros(n)\n",
    "\n",
    "    for j in range(n):\n",
    "        ts_X[j] = ts.sample_data()\n",
    "        ts_X_opt[j]= ts_opt.sample_data()\n",
    "        ts_X_mcmc[j]= ts_mcmc.sample_data()\n",
    "        \n",
    "        ts.sample_weight()\n",
    "        ts_opt.sample_weight()\n",
    "        if j==0:\n",
    "            ts_mcmc.sample_weight()\n",
    "        \n",
    "        ts_arm = ts.select_arm_conjugated(ts_X[j])\n",
    "        ts_arm_opt = ts_opt.select_arm_conjugated(ts_X_opt[j],optimistic=1)\n",
    "        ts_arm_mcmc = ts_mcmc.select_arm_conjugated(ts_X_mcmc[j])\n",
    "        \n",
    "        ts_X[j] = ts.feature_embed(ts_X[j],ts_arm)\n",
    "        ts_y[j] = ts.sample_label(ts_X[j])\n",
    "        \n",
    "        ts_X_opt[j] = ts_opt.feature_embed(ts_X_opt[j],ts_arm_opt)\n",
    "        ts_y_opt[j] = ts_opt.sample_label(ts_X_opt[j])\n",
    "        \n",
    "        ts_X_mcmc[j] = ts_mcmc.feature_embed(ts_X_mcmc[j],ts_arm_mcmc)\n",
    "        ts_y_mcmc[j] = ts_mcmc.sample_label(ts_X_mcmc[j])\n",
    "        \n",
    "        ts_arms[t*n + j] = ts_arm\n",
    "        ts_arms_opt[t*n + j] = ts_arm_opt\n",
    "        ts_arms_mcmc[t*n + j] = ts_arm_mcmc\n",
    "    \n",
    "    ts.update_with_grad(ts_X,ts_y)\n",
    "    ts_opt.update_with_grad(ts_X_opt,ts_y_opt)\n",
    "    ts_mcmc.MCMC(ts_X_mcmc,ts_y_mcmc,conv = 200,sampling = 500)\n",
    "    \n",
    "    ts_results[t*n:(t+1)*n] = ts_y\n",
    "    ts_results_opt[t*n:(t+1)*n] = ts_y_opt\n",
    "    ts_results_mcmc[t*n:(t+1)*n] = ts_y_mcmc\n"
   ]
  },
  {
   "cell_type": "code",
   "execution_count": 4,
   "metadata": {
    "collapsed": false
   },
   "outputs": [],
   "source": [
    "rew_TS_seq = np.zeros(T)\n",
    "rew_TSopt_seq = np.zeros(T)\n",
    "rew_TS_mcmc_seq= np.zeros(T)\n",
    "\n",
    "for t in range(T):\n",
    "    rew_TS_seq[t]= sum(ts_results[n*t:n*(t+1)])\n",
    "    rew_TSopt_seq[t]= sum(ts_results_opt[n*t:n*(t+1)])\n",
    "    rew_TS_mcmc_seq[t]= sum(ts_results_mcmc[n*t:n*(t+1)])"
   ]
  },
  {
   "cell_type": "code",
   "execution_count": 5,
   "metadata": {
    "collapsed": false
   },
   "outputs": [
    {
     "name": "stdout",
     "output_type": "stream",
     "text": [
      "1.09473684211\n",
      "1.18947368421\n",
      "0.842105263158\n"
     ]
    }
   ],
   "source": [
    "print(np.mean(rew_TS_seq))\n",
    "print(np.mean(rew_TSopt_seq))\n",
    "print(np.mean(rew_TS_mcmc_seq))"
   ]
  },
  {
   "cell_type": "code",
   "execution_count": 6,
   "metadata": {
    "collapsed": false
   },
   "outputs": [],
   "source": [
    "rew_ts_sum = np.cumsum(rew_TS_seq)\n",
    "rew_ts_opt_sum = np.cumsum(rew_TSopt_seq)\n",
    "rew_ts_mcmc_sum = np.cumsum(rew_TS_mcmc_seq)\n",
    "for i in range(T):\n",
    "    rew_ts_sum[i]= rew_ts_sum[i]/(i+1)\n",
    "    rew_ts_opt_sum[i]= rew_ts_opt_sum[i]/(i+1)\n",
    "    rew_ts_mcmc_sum[i]= rew_ts_mcmc_sum[i]/(i+1)"
   ]
  },
  {
   "cell_type": "code",
   "execution_count": 7,
   "metadata": {
    "collapsed": false
   },
   "outputs": [
    {
     "data": {
      "text/plain": [
       "<matplotlib.text.Text at 0x5727c67d0>"
      ]
     },
     "execution_count": 7,
     "metadata": {},
     "output_type": "execute_result"
    },
    {
     "data": {
      "image/png": "[encoded data removed]",
      "text/plain": [
       "<matplotlib.figure.Figure at 0x5e0705b90>"
      ]
     },
     "metadata": {},
     "output_type": "display_data"
    }
   ],
   "source": [
    "plt.plot(range(T),rew_ts_sum)\n",
    "plt.title('Average reward on the periods with TS')"
   ]
  },
  {
   "cell_type": "code",
   "execution_count": 8,
   "metadata": {
    "collapsed": false
   },
   "outputs": [
    {
     "data": {
      "text/plain": [
       "<matplotlib.text.Text at 0x5ff93d790>"
      ]
     },
     "execution_count": 8,
     "metadata": {},
     "output_type": "execute_result"
    },
    {
     "data": {
      "image/png": "[encoded data removed]",
      "text/plain": [
       "<matplotlib.figure.Figure at 0x5e03af510>"
      ]
     },
     "metadata": {},
     "output_type": "display_data"
    }
   ],
   "source": [
    "plt.plot(range(T),rew_ts_opt_sum)\n",
    "plt.title('Average reward on the periods with optimistic TS')"
   ]
  },
  {
   "cell_type": "code",
   "execution_count": 9,
   "metadata": {
    "collapsed": false
   },
   "outputs": [
    {
     "data": {
      "text/plain": [
       "<matplotlib.text.Text at 0x604ae23d0>"
      ]
     },
     "execution_count": 9,
     "metadata": {},
     "output_type": "execute_result"
    },
    {
     "data": {
      "image/png": "[encoded data removed]",
      "text/plain": [
       "<matplotlib.figure.Figure at 0x5e03ebb10>"
      ]
     },
     "metadata": {},
     "output_type": "display_data"
    }
   ],
   "source": [
    "plt.plot(range(T),rew_ts_mcmc_sum)\n",
    "plt.title('Average reward for on the periods for TS with MCMC')"
   ]
  },
  {
   "cell_type": "code",
   "execution_count": null,
   "metadata": {
    "collapsed": false
   },
   "outputs": [],
   "source": []
  },
  {
   "cell_type": "code",
   "execution_count": null,
   "metadata": {
    "collapsed": true
   },
   "outputs": [],
   "source": []
  }
 ],
 "metadata": {
  "kernelspec": {
   "display_name": "Python 2",
   "language": "python",
   "name": "python2"
  },
  "language_info": {
   "codemirror_mode": {
    "name": "ipython",
    "version": 2
   },
   "file_extension": ".py",
   "mimetype": "text/x-python",
   "name": "python",
   "nbconvert_exporter": "python",
   "pygments_lexer": "ipython2",
   "version": "2.7.12"
  }
 },
 "nbformat": 4,
 "nbformat_minor": 0
}
