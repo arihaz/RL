{
 "cells": [
  {
   "cell_type": "code",
   "execution_count": 96,
   "metadata": {
    "collapsed": true
   },
   "outputs": [],
   "source": [
    "import random\n",
    "import numpy as np\n",
    "import matplotlib.pyplot as plt\n",
    "%matplotlib inline"
   ]
  },
  {
   "cell_type": "code",
   "execution_count": 97,
   "metadata": {
    "collapsed": true
   },
   "outputs": [],
   "source": [
    "r = 0.05\n",
    "gamma = 1./(1+r)\n",
    "wood_unit_price = 1\n",
    "new_tree_price = 5\n",
    "maintenance_cost = 0.5\n",
    "max_height = 20\n",
    "max_growth = 5\n",
    "disease_probability = 0.2"
   ]
  },
  {
   "cell_type": "code",
   "execution_count": 98,
   "metadata": {
    "collapsed": true
   },
   "outputs": [],
   "source": [
    "def tree_sim(x,a):\n",
    "    y=x\n",
    "    r=0\n",
    "    if a == \"cut\":\n",
    "        y = 1\n",
    "        r = x*wood_unit_price - new_tree_price\n",
    "    elif a == \"no cut\":\n",
    "        disease_random = random.uniform(0,1)\n",
    "        if disease_random > disease_probability :\n",
    "            growth = random.randint(1,max_growth)\n",
    "            y = min(x+growth,max_height)\n",
    "            r = -maintenance_cost\n",
    "        else:\n",
    "            r = -maintenance_cost - new_tree_price\n",
    "            y = 1\n",
    "        \n",
    "    return  y,r"
   ]
  },
  {
   "cell_type": "code",
   "execution_count": 111,
   "metadata": {
    "collapsed": false
   },
   "outputs": [],
   "source": [
    "def tree_MDP():\n",
    "    dynamics = np.zeros((max_height,max_height,2))\n",
    "    for i in range(max_height):\n",
    "        dynamics[i,0,1] = 1 \n",
    "        dynamics[i,0,0] = 0.2\n",
    "        for j in range(i+1,min(i + max_growth + 1,max_height)):\n",
    "                dynamics[i,j,0]= (1-disease_probability)/max_growth \n",
    "        if max_height-1 - i < max_growth:\n",
    "            dynamics[i,max_height-1,0] = (1-disease_probability)*(max_growth -(max_height-2-i))/max_growth\n",
    "    dynamics[max_height-1,max_height-1,0]= (1-disease_probability)\n",
    "    rewards = np.zeros((max_height,2))\n",
    "    for i in range(max_height):\n",
    "        rewards[i,1]= (i+1)*wood_unit_price - new_tree_price\n",
    "    rewards[:,0]= rewards[:,0] - maintenance_cost\n",
    "    return dynamics,rewards"
   ]
  },
  {
   "cell_type": "code",
   "execution_count": 112,
   "metadata": {
    "collapsed": false
   },
   "outputs": [],
   "source": [
    "def monte_Carlo_estimation(dynamics,rewards,policy_decision):\n",
    "    V_0 = 0\n",
    "    r_pi = np.zeros((max_height))\n",
    "    for i in range(max_height):\n",
    "        r_pi[i]= rewards[i,policy_decision[i]]\n",
    "    M = np.zeros(1000)\n",
    "    for  nb_iter in range(1000):\n",
    "        r_trajectory = 0\n",
    "        y = 1\n",
    "        for t in range(1000):\n",
    "            if policy_decision[y-1]==1:\n",
    "                a=\"cut\"\n",
    "            else:\n",
    "                a=\"no cut\"\n",
    "            y, r = tree_sim(y,a)\n",
    "            r_trajectory += (gamma**t)*r\n",
    "        V_0 =  V_0 + r_trajectory\n",
    "        M[nb_iter] = r_trajectory\n",
    "    V_0 = V_0/1000\n",
    "    return V_0,M \n",
    "\n",
    "def V_estimate_matrix_inversion(dynamics,rewards,policy_decision):\n",
    "    P = np.ones((max_height,max_height))\n",
    "    r_pi = np.zeros((max_height))\n",
    "    for i in range(max_height):\n",
    "        r_pi[i]= rewards[i,policy_decision[i]]\n",
    "    for i in range(max_height):\n",
    "        for j in range(max_height):\n",
    "            P[i,j] = dynamics[i,j,policy_decision[i]]\n",
    "    result = np.dot(np.linalg.inv(np.identity(max_height) - gamma*P),r_pi)\n",
    "    return result\n",
    "        "
   ]
  },
  {
   "cell_type": "code",
   "execution_count": 113,
   "metadata": {
    "collapsed": false
   },
   "outputs": [
    {
     "name": "stderr",
     "output_type": "stream",
     "text": [
      "/Users/arielhaziza/anaconda/lib/python2.7/site-packages/ipykernel/__main__.py:5: VisibleDeprecationWarning: using a non-integer number instead of an integer will result in an error in the future\n"
     ]
    }
   ],
   "source": [
    "dynamics,rewards = tree_MDP()\n",
    "policy =  np.zeros(max_height)\n",
    "for i in range(max_height):\n",
    "    if i> 14:\n",
    "        policy[i]=1\n",
    "value,M = monte_Carlo_estimation(dynamics,rewards,policy)"
   ]
  },
  {
   "cell_type": "code",
   "execution_count": 114,
   "metadata": {
    "collapsed": false
   },
   "outputs": [
    {
     "name": "stderr",
     "output_type": "stream",
     "text": [
      "/Users/arielhaziza/anaconda/lib/python2.7/site-packages/ipykernel/__main__.py:26: VisibleDeprecationWarning: using a non-integer number instead of an integer will result in an error in the future\n",
      "/Users/arielhaziza/anaconda/lib/python2.7/site-packages/ipykernel/__main__.py:29: VisibleDeprecationWarning: using a non-integer number instead of an integer will result in an error in the future\n"
     ]
    },
    {
     "data": {
      "text/plain": [
       "array([  2.98814825,   3.2369756 ,   3.50872974,   3.80451768,\n",
       "         4.12507899,   4.48048554,   4.86990511,   5.2921163 ,\n",
       "         5.74562601,   6.22876263,   6.81284102,   7.42547103,\n",
       "         8.06287724,   8.72178345,   9.39934669,  10.64585547,\n",
       "        11.44585547,  12.24585547,  13.04585547,  13.84585547])"
      ]
     },
     "execution_count": 114,
     "metadata": {},
     "output_type": "execute_result"
    }
   ],
   "source": [
    "V_estimate_matrix_inversion(dynamics,rewards,policy)"
   ]
  },
  {
   "cell_type": "code",
   "execution_count": 82,
   "metadata": {
    "collapsed": false
   },
   "outputs": [
    {
     "data": {
      "text/plain": [
       "-11.566765276593877"
      ]
     },
     "execution_count": 82,
     "metadata": {},
     "output_type": "execute_result"
    }
   ],
   "source": [
    "value"
   ]
  },
  {
   "cell_type": "code",
   "execution_count": 13,
   "metadata": {
    "collapsed": false
   },
   "outputs": [
    {
     "name": "stderr",
     "output_type": "stream",
     "text": [
      "/Users/arielhaziza/anaconda/lib/python2.7/site-packages/ipykernel/__main__.py:5: VisibleDeprecationWarning: using a non-integer number instead of an integer will result in an error in the future\n"
     ]
    }
   ],
   "source": [
    "MC_average_trajectory = np.zeros(1000)\n",
    "for i in range(10):\n",
    "    MC_average_trajectory += monte_Carlo_estimation(dynamics,rewards,policy)[1]\n",
    "MC_average_trajectory = MC_average_trajectory/10\n",
    "for i in range(MC_average_trajectory.shape[0]):\n",
    "    MC_average_trajectory[i]=np.mean(MC_average_trajectory[0:i+1])\n"
   ]
  },
  {
   "cell_type": "code",
   "execution_count": 14,
   "metadata": {
    "collapsed": false
   },
   "outputs": [
    {
     "name": "stderr",
     "output_type": "stream",
     "text": [
      "/Users/arielhaziza/anaconda/lib/python2.7/site-packages/ipykernel/__main__.py:26: VisibleDeprecationWarning: using a non-integer number instead of an integer will result in an error in the future\n",
      "/Users/arielhaziza/anaconda/lib/python2.7/site-packages/ipykernel/__main__.py:29: VisibleDeprecationWarning: using a non-integer number instead of an integer will result in an error in the future\n"
     ]
    },
    {
     "data": {
      "text/plain": [
       "[<matplotlib.lines.Line2D at 0x10726dbd0>]"
      ]
     },
     "execution_count": 14,
     "metadata": {},
     "output_type": "execute_result"
    },
    {
     "data": {
      "image/png": "[encoded data removed]",
      "text/plain": [
       "<matplotlib.figure.Figure at 0x10a300910>"
      ]
     },
     "metadata": {},
     "output_type": "display_data"
    }
   ],
   "source": [
    "difference = MC_average_trajectory - V_estimate_matrix_inversion(dynamics,rewards,policy)[0]\n",
    "plt.plot(range(1000),difference)"
   ]
  },
  {
   "cell_type": "markdown",
   "metadata": {},
   "source": [
    "### Q3- Optimal policy"
   ]
  },
  {
   "cell_type": "code",
   "execution_count": 15,
   "metadata": {
    "collapsed": false
   },
   "outputs": [],
   "source": [
    "def policy_iteration(dynamics,rewards):\n",
    "    policy = np.zeros(max_height)\n",
    "    policy_bis = (-1)* np.ones(max_height)\n",
    "    nb_iter = 0\n",
    "    M = np.zeros((20,1000))\n",
    "    while not((policy==policy_bis).all()):\n",
    "        nb_iter +=1\n",
    "        temp = policy_bis\n",
    "        policy_bis = (-1)* np.ones(max_height)\n",
    "        policy = temp\n",
    "        for i in range(max_height):\n",
    "            v_pi = V_estimate_matrix_inversion(dynamics,rewards,policy)\n",
    "            value_0 = rewards[i,0]+ gamma*np.dot(dynamics[i,:,0],v_pi)\n",
    "            value_1 = rewards[i,1]+ gamma*np.dot(dynamics[i,:,1],v_pi)\n",
    "            if value_1 > value_0:\n",
    "                policy_bis[i]=1\n",
    "            else:\n",
    "                policy_bis[i]=0\n",
    "        M[:,nb_iter-1]= v_pi\n",
    "    print(\"Nombre d iterations: %d\"%nb_iter)\n",
    "    M = M[:,0:nb_iter]\n",
    "    return policy,M"
   ]
  },
  {
   "cell_type": "code",
   "execution_count": 16,
   "metadata": {
    "collapsed": false
   },
   "outputs": [
    {
     "name": "stdout",
     "output_type": "stream",
     "text": [
      "Nombre d iterations: 4\n"
     ]
    },
    {
     "name": "stderr",
     "output_type": "stream",
     "text": [
      "/Users/arielhaziza/anaconda/lib/python2.7/site-packages/ipykernel/__main__.py:26: VisibleDeprecationWarning: using a non-integer number instead of an integer will result in an error in the future\n",
      "/Users/arielhaziza/anaconda/lib/python2.7/site-packages/ipykernel/__main__.py:29: VisibleDeprecationWarning: using a non-integer number instead of an integer will result in an error in the future\n"
     ]
    }
   ],
   "source": [
    "polcy_from_PI, v_PI = policy_iteration(dynamics,rewards)"
   ]
  },
  {
   "cell_type": "code",
   "execution_count": 17,
   "metadata": {
    "collapsed": false
   },
   "outputs": [],
   "source": [
    "def bellman_operator(dynamics,rewards,v):\n",
    "    result = np.zeros(max_height)\n",
    "    for i in range(max_height):\n",
    "        value_0 = rewards[i,0]+ gamma*np.dot(dynamics[i,:,0],v)\n",
    "        value_1 = rewards[i,1]+ gamma*np.dot(dynamics[i,:,1],v)\n",
    "        if value_1 > value_0:\n",
    "            result[i] = value_1\n",
    "        else:\n",
    "            result[i] = value_0\n",
    "    return result\n",
    "        \n",
    "def value_iteration(dynamics,rewards):\n",
    "    v  = np.zeros(max_height)\n",
    "    pi = np.zeros(max_height)\n",
    "    M = np.zeros((max_height,1000))\n",
    "    for i in range(1000):\n",
    "        v = bellman_operator(dynamics,rewards,v)\n",
    "        M[:,i]= v\n",
    "    for i in range(max_height):\n",
    "        value_0 = rewards[i,0]+ gamma*np.dot(dynamics[i,:,0],v)\n",
    "        value_1 = rewards[i,1]+ gamma*np.dot(dynamics[i,:,1],v)\n",
    "        if value_1 > value_0:\n",
    "            pi[i] = 1\n",
    "    return pi,M\n",
    "        \n",
    "        "
   ]
  },
  {
   "cell_type": "code",
   "execution_count": 18,
   "metadata": {
    "collapsed": false
   },
   "outputs": [
    {
     "name": "stderr",
     "output_type": "stream",
     "text": [
      "/Users/arielhaziza/anaconda/lib/python2.7/site-packages/ipykernel/__main__.py:26: VisibleDeprecationWarning: using a non-integer number instead of an integer will result in an error in the future\n",
      "/Users/arielhaziza/anaconda/lib/python2.7/site-packages/ipykernel/__main__.py:29: VisibleDeprecationWarning: using a non-integer number instead of an integer will result in an error in the future\n"
     ]
    }
   ],
   "source": [
    "optimal_policy_VI, v_VI = value_iteration(dynamics,rewards)\n",
    "V_optimal = V_estimate_matrix_inversion(dynamics,rewards,optimal_policy_VI)"
   ]
  },
  {
   "cell_type": "code",
   "execution_count": 19,
   "metadata": {
    "collapsed": false
   },
   "outputs": [
    {
     "data": {
      "text/plain": [
       "<matplotlib.collections.PathCollection at 0x1073c8b90>"
      ]
     },
     "execution_count": 19,
     "metadata": {},
     "output_type": "execute_result"
    },
    {
     "data": {
      "image/png": "[encoded data removed]",
      "text/plain": [
       "<matplotlib.figure.Figure at 0x10a3a3650>"
      ]
     },
     "metadata": {},
     "output_type": "display_data"
    }
   ],
   "source": [
    "difference_PI = np.zeros(v_PI.shape[1])\n",
    "for i in range(v_PI.shape[1]):\n",
    "    difference_PI[i] = np.max(np.abs(v_PI[:,i]-V_optimal))\n",
    "plt.scatter(range(v_PI.shape[1]),difference_PI)"
   ]
  },
  {
   "cell_type": "code",
   "execution_count": 20,
   "metadata": {
    "collapsed": false
   },
   "outputs": [
    {
     "data": {
      "text/plain": [
       "[<matplotlib.lines.Line2D at 0x10a5598d0>]"
      ]
     },
     "execution_count": 20,
     "metadata": {},
     "output_type": "execute_result"
    },
    {
     "data": {
      "image/png": "[encoded data removed]",
      "text/plain": [
       "<matplotlib.figure.Figure at 0x10722b250>"
      ]
     },
     "metadata": {},
     "output_type": "display_data"
    }
   ],
   "source": [
    "difference_VI = np.zeros(v_VI.shape[1])\n",
    "for i in range(v_VI.shape[1]):\n",
    "    difference_VI[i] = np.max(np.abs(v_VI[:,i]-V_optimal))\n",
    "plt.plot(range(200),difference_VI[0:200])"
   ]
  },
  {
   "cell_type": "code",
   "execution_count": 21,
   "metadata": {
    "collapsed": false
   },
   "outputs": [
    {
     "name": "stderr",
     "output_type": "stream",
     "text": [
      "/Users/arielhaziza/anaconda/lib/python2.7/site-packages/ipykernel/__main__.py:5: VisibleDeprecationWarning: using a non-integer number instead of an integer will result in an error in the future\n"
     ]
    }
   ],
   "source": [
    "value,M = monte_Carlo_estimation(dynamics,rewards,policy)\n",
    "    "
   ]
  },
  {
   "cell_type": "code",
   "execution_count": null,
   "metadata": {
    "collapsed": false
   },
   "outputs": [],
   "source": []
  },
  {
   "cell_type": "code",
   "execution_count": null,
   "metadata": {
    "collapsed": true
   },
   "outputs": [],
   "source": []
  },
  {
   "cell_type": "code",
   "execution_count": null,
   "metadata": {
    "collapsed": true
   },
   "outputs": [],
   "source": []
  }
 ],
 "metadata": {
  "kernelspec": {
   "display_name": "Python 2",
   "language": "python",
   "name": "python2"
  },
  "language_info": {
   "codemirror_mode": {
    "name": "ipython",
    "version": 2
   },
   "file_extension": ".py",
   "mimetype": "text/x-python",
   "name": "python",
   "nbconvert_exporter": "python",
   "pygments_lexer": "ipython2",
   "version": "2.7.12"
  }
 },
 "nbformat": 4,
 "nbformat_minor": 0
}
