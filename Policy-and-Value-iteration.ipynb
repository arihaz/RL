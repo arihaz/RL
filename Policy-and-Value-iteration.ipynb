{
 "cells": [
  {
   "cell_type": "code",
   "execution_count": 1,
   "metadata": {
    "collapsed": true
   },
   "outputs": [],
   "source": [
    "import random\n",
    "import numpy as np\n",
    "import matplotlib.pyplot as plt\n",
    "%matplotlib inline"
   ]
  },
  {
   "cell_type": "code",
   "execution_count": 2,
   "metadata": {
    "collapsed": true
   },
   "outputs": [],
   "source": [
    "r = 0.05\n",
    "gamma = 1./(1+r)\n",
    "wood_unit_price = 1\n",
    "new_tree_price = 5\n",
    "maintenance_cost = 0.5\n",
    "max_height = 20\n",
    "max_growth = 5\n",
    "disease_probability = 0.2"
   ]
  },
  {
   "cell_type": "markdown",
   "metadata": {},
   "source": [
    "Thus, the random effect are modeled the following way:\n",
    "- i) A tree has a probability disease_probability (=0.2) to get a disease at each t (except it is already in a sick state and it stays sick except if we cut it).\n",
    "- ii) The effect of the weather is modeled by a random growth: a tree will grow of a value uniformly selected between 1 and max_growth, but it can’t be taller than max_height (exemple: if the height is 18, so for a growth of 2, 3 , 4 and 5, the final height will be max_height= 20)."
   ]
  },
  {
   "cell_type": "code",
   "execution_count": 3,
   "metadata": {
    "collapsed": true
   },
   "outputs": [],
   "source": [
    "def tree_sim(x,a):\n",
    "    y=x\n",
    "    r=0\n",
    "    if a == \"cut\":\n",
    "        y = 1\n",
    "        r = x*wood_unit_price - new_tree_price\n",
    "    elif a == \"no cut\":\n",
    "        disease_random = random.uniform(0,1)\n",
    "        if disease_random > disease_probability :\n",
    "            growth = random.randint(1,max_growth)\n",
    "            y = min(x+growth,max_height)\n",
    "            r = -maintenance_cost\n",
    "        else:\n",
    "            r = -maintenance_cost - new_tree_price\n",
    "            y = 1\n",
    "        \n",
    "    return  y,r"
   ]
  },
  {
   "cell_type": "code",
   "execution_count": 4,
   "metadata": {
    "collapsed": false
   },
   "outputs": [],
   "source": [
    "def tree_MDP():\n",
    "    dynamics = np.zeros((max_height,max_height,2))\n",
    "    for i in range(max_height):\n",
    "        dynamics[i,0,1] = 1 \n",
    "        dynamics[i,0,0] = 0.2\n",
    "        for j in range(i+1,min(i + max_growth + 1,max_height)):\n",
    "                dynamics[i,j,0]= (1-disease_probability)/max_growth \n",
    "        if max_height-1 - i < max_growth:\n",
    "            dynamics[i,max_height-1,0] = (1-disease_probability)*(max_growth -(max_height-2-i))/max_growth\n",
    "    dynamics[max_height-1,max_height-1,0]= (1-disease_probability)\n",
    "    rewards = np.zeros((max_height,2))\n",
    "    for i in range(max_height):\n",
    "        rewards[i,1]= (i+1)*wood_unit_price - new_tree_price\n",
    "    rewards[:,0]= rewards[:,0] - maintenance_cost\n",
    "    return dynamics,rewards"
   ]
  },
  {
   "cell_type": "code",
   "execution_count": 5,
   "metadata": {
    "collapsed": false
   },
   "outputs": [],
   "source": [
    "def monte_Carlo_estimation(dynamics,rewards,policy_decision):\n",
    "    V_0 = 0\n",
    "    r_pi = np.zeros((max_height))\n",
    "    for i in range(max_height):\n",
    "        r_pi[i]= rewards[i,policy_decision[i]]\n",
    "    M = np.zeros(1000)\n",
    "    for  nb_iter in range(1000):\n",
    "        r_trajectory = 0\n",
    "        y = 1\n",
    "        for t in range(1000):\n",
    "            if policy_decision[y-1]==1:\n",
    "                a=\"cut\"\n",
    "            else:\n",
    "                a=\"no cut\"\n",
    "            y, r = tree_sim(y,a)\n",
    "            r_trajectory += (gamma**t)*r\n",
    "        V_0 =  V_0 + r_trajectory\n",
    "        M[nb_iter] = r_trajectory\n",
    "    V_0 = V_0/1000\n",
    "    return V_0,M \n",
    "\n",
    "def V_estimate_matrix_inversion(dynamics,rewards,policy_decision):\n",
    "    P = np.ones((max_height,max_height))\n",
    "    r_pi = np.zeros((max_height))\n",
    "    for i in range(max_height):\n",
    "        r_pi[i]= rewards[i,policy_decision[i]]\n",
    "    for i in range(max_height):\n",
    "        for j in range(max_height):\n",
    "            P[i,j] = dynamics[i,j,policy_decision[i]]\n",
    "    result = np.dot(np.linalg.inv(np.identity(max_height) - gamma*P),r_pi)\n",
    "    return result\n",
    "        "
   ]
  },
  {
   "cell_type": "code",
   "execution_count": 6,
   "metadata": {
    "collapsed": false
   },
   "outputs": [
    {
     "name": "stderr",
     "output_type": "stream",
     "text": [
      "/Users/arielhaziza/anaconda/lib/python2.7/site-packages/ipykernel/__main__.py:5: VisibleDeprecationWarning: using a non-integer number instead of an integer will result in an error in the future\n"
     ]
    }
   ],
   "source": [
    "dynamics,rewards = tree_MDP()\n",
    "policy =  np.zeros(max_height)\n",
    "for i in range(max_height):\n",
    "    if i> 14:\n",
    "        policy[i]=1\n",
    "value,M = monte_Carlo_estimation(dynamics,rewards,policy)"
   ]
  },
  {
   "cell_type": "code",
   "execution_count": 7,
   "metadata": {
    "collapsed": false
   },
   "outputs": [
    {
     "name": "stderr",
     "output_type": "stream",
     "text": [
      "/Users/arielhaziza/anaconda/lib/python2.7/site-packages/ipykernel/__main__.py:26: VisibleDeprecationWarning: using a non-integer number instead of an integer will result in an error in the future\n",
      "/Users/arielhaziza/anaconda/lib/python2.7/site-packages/ipykernel/__main__.py:29: VisibleDeprecationWarning: using a non-integer number instead of an integer will result in an error in the future\n"
     ]
    },
    {
     "data": {
      "text/plain": [
       "array([  7.98953005,   8.33084632,   8.70353447,   9.10873512,\n",
       "         9.54701372,  10.03549877,  10.5707343 ,  11.14930047,\n",
       "        11.76786441,  12.42321703,  13.24118188,  14.0832175 ,\n",
       "        14.94614097,  15.82719026,  16.72396857,  18.60907624,\n",
       "        19.60907624,  20.60907624,  21.60907624,  22.60907624])"
      ]
     },
     "execution_count": 7,
     "metadata": {},
     "output_type": "execute_result"
    }
   ],
   "source": [
    "V_estimate_matrix_inversion(dynamics,rewards,policy)"
   ]
  },
  {
   "cell_type": "code",
   "execution_count": 8,
   "metadata": {
    "collapsed": false
   },
   "outputs": [
    {
     "data": {
      "text/plain": [
       "-11.049596439138769"
      ]
     },
     "execution_count": 8,
     "metadata": {},
     "output_type": "execute_result"
    }
   ],
   "source": [
    "value"
   ]
  },
  {
   "cell_type": "code",
   "execution_count": 9,
   "metadata": {
    "collapsed": false
   },
   "outputs": [
    {
     "name": "stderr",
     "output_type": "stream",
     "text": [
      "/Users/arielhaziza/anaconda/lib/python2.7/site-packages/ipykernel/__main__.py:5: VisibleDeprecationWarning: using a non-integer number instead of an integer will result in an error in the future\n"
     ]
    }
   ],
   "source": [
    "MC_average_trajectory = np.zeros(1000)\n",
    "for i in range(10):\n",
    "    MC_average_trajectory += monte_Carlo_estimation(dynamics,rewards,policy)[1]\n",
    "MC_average_trajectory = MC_average_trajectory/10\n",
    "for i in range(MC_average_trajectory.shape[0]):\n",
    "    MC_average_trajectory[i]=np.mean(MC_average_trajectory[0:i+1])\n"
   ]
  },
  {
   "cell_type": "code",
   "execution_count": 10,
   "metadata": {
    "collapsed": false
   },
   "outputs": [
    {
     "name": "stderr",
     "output_type": "stream",
     "text": [
      "/Users/arielhaziza/anaconda/lib/python2.7/site-packages/ipykernel/__main__.py:26: VisibleDeprecationWarning: using a non-integer number instead of an integer will result in an error in the future\n",
      "/Users/arielhaziza/anaconda/lib/python2.7/site-packages/ipykernel/__main__.py:29: VisibleDeprecationWarning: using a non-integer number instead of an integer will result in an error in the future\n"
     ]
    },
    {
     "data": {
      "text/plain": [
       "[<matplotlib.lines.Line2D at 0x107475a50>]"
      ]
     },
     "execution_count": 10,
     "metadata": {},
     "output_type": "execute_result"
    },
    {
     "data": {
      "image/png": "[encoded data removed]",
      "text/plain": [
       "<matplotlib.figure.Figure at 0x10a655b50>"
      ]
     },
     "metadata": {},
     "output_type": "display_data"
    }
   ],
   "source": [
    "difference = MC_average_trajectory - V_estimate_matrix_inversion(dynamics,rewards,policy)[0]\n",
    "plt.plot(range(1000),difference)"
   ]
  },
  {
   "cell_type": "markdown",
   "metadata": {},
   "source": [
    "### Q3- Optimal policy"
   ]
  },
  {
   "cell_type": "code",
   "execution_count": 11,
   "metadata": {
    "collapsed": false
   },
   "outputs": [],
   "source": [
    "def policy_iteration(dynamics,rewards):\n",
    "    policy = np.zeros(max_height)\n",
    "    policy_bis = (-1)* np.ones(max_height)\n",
    "    nb_iter = 0\n",
    "    M = np.zeros((20,1000))\n",
    "    while not((policy==policy_bis).all()):\n",
    "        nb_iter +=1\n",
    "        temp = policy_bis\n",
    "        policy_bis = (-1)* np.ones(max_height)\n",
    "        policy = temp\n",
    "        for i in range(max_height):\n",
    "            v_pi = V_estimate_matrix_inversion(dynamics,rewards,policy)\n",
    "            value_0 = rewards[i,0]+ gamma*np.dot(dynamics[i,:,0],v_pi)\n",
    "            value_1 = rewards[i,1]+ gamma*np.dot(dynamics[i,:,1],v_pi)\n",
    "            if value_1 > value_0:\n",
    "                policy_bis[i]=1\n",
    "            else:\n",
    "                policy_bis[i]=0\n",
    "        M[:,nb_iter-1]= v_pi\n",
    "    print(\"Nombre d iterations: %d\"%nb_iter)\n",
    "    M = M[:,0:nb_iter]\n",
    "    return policy,M"
   ]
  },
  {
   "cell_type": "code",
   "execution_count": 12,
   "metadata": {
    "collapsed": false
   },
   "outputs": [
    {
     "name": "stdout",
     "output_type": "stream",
     "text": [
      "Nombre d iterations: 4\n"
     ]
    },
    {
     "name": "stderr",
     "output_type": "stream",
     "text": [
      "/Users/arielhaziza/anaconda/lib/python2.7/site-packages/ipykernel/__main__.py:26: VisibleDeprecationWarning: using a non-integer number instead of an integer will result in an error in the future\n",
      "/Users/arielhaziza/anaconda/lib/python2.7/site-packages/ipykernel/__main__.py:29: VisibleDeprecationWarning: using a non-integer number instead of an integer will result in an error in the future\n"
     ]
    }
   ],
   "source": [
    "polcy_from_PI, v_PI = policy_iteration(dynamics,rewards)"
   ]
  },
  {
   "cell_type": "code",
   "execution_count": 13,
   "metadata": {
    "collapsed": false
   },
   "outputs": [],
   "source": [
    "def bellman_operator(dynamics,rewards,v):\n",
    "    result = np.zeros(max_height)\n",
    "    for i in range(max_height):\n",
    "        value_0 = rewards[i,0]+ gamma*np.dot(dynamics[i,:,0],v)\n",
    "        value_1 = rewards[i,1]+ gamma*np.dot(dynamics[i,:,1],v)\n",
    "        if value_1 > value_0:\n",
    "            result[i] = value_1\n",
    "        else:\n",
    "            result[i] = value_0\n",
    "    return result\n",
    "        \n",
    "def value_iteration(dynamics,rewards):\n",
    "    v  = np.zeros(max_height)\n",
    "    pi = np.zeros(max_height)\n",
    "    M = np.zeros((max_height,1000))\n",
    "    for i in range(1000):\n",
    "        v = bellman_operator(dynamics,rewards,v)\n",
    "        M[:,i]= v\n",
    "    for i in range(max_height):\n",
    "        value_0 = rewards[i,0]+ gamma*np.dot(dynamics[i,:,0],v)\n",
    "        value_1 = rewards[i,1]+ gamma*np.dot(dynamics[i,:,1],v)\n",
    "        if value_1 > value_0:\n",
    "            pi[i] = 1\n",
    "    return pi,M\n",
    "        \n",
    "        "
   ]
  },
  {
   "cell_type": "code",
   "execution_count": 14,
   "metadata": {
    "collapsed": false
   },
   "outputs": [
    {
     "name": "stderr",
     "output_type": "stream",
     "text": [
      "/Users/arielhaziza/anaconda/lib/python2.7/site-packages/ipykernel/__main__.py:26: VisibleDeprecationWarning: using a non-integer number instead of an integer will result in an error in the future\n",
      "/Users/arielhaziza/anaconda/lib/python2.7/site-packages/ipykernel/__main__.py:29: VisibleDeprecationWarning: using a non-integer number instead of an integer will result in an error in the future\n"
     ]
    }
   ],
   "source": [
    "optimal_policy_VI, v_VI = value_iteration(dynamics,rewards)\n",
    "V_optimal = V_estimate_matrix_inversion(dynamics,rewards,optimal_policy_VI)"
   ]
  },
  {
   "cell_type": "code",
   "execution_count": 15,
   "metadata": {
    "collapsed": false
   },
   "outputs": [
    {
     "data": {
      "text/plain": [
       "<matplotlib.collections.PathCollection at 0x10753b250>"
      ]
     },
     "execution_count": 15,
     "metadata": {},
     "output_type": "execute_result"
    },
    {
     "data": {
      "image/png": "[encoded data removed]",
      "text/plain": [
       "<matplotlib.figure.Figure at 0x10a655ad0>"
      ]
     },
     "metadata": {},
     "output_type": "display_data"
    }
   ],
   "source": [
    "difference_PI = np.zeros(v_PI.shape[1])\n",
    "for i in range(v_PI.shape[1]):\n",
    "    difference_PI[i] = np.max(np.abs(v_PI[:,i]-V_optimal))\n",
    "plt.scatter(range(v_PI.shape[1]),difference_PI)"
   ]
  },
  {
   "cell_type": "code",
   "execution_count": 16,
   "metadata": {
    "collapsed": false
   },
   "outputs": [
    {
     "data": {
      "text/plain": [
       "[<matplotlib.lines.Line2D at 0x10763b810>]"
      ]
     },
     "execution_count": 16,
     "metadata": {},
     "output_type": "execute_result"
    },
    {
     "data": {
      "image/png": "[encoded data removed]",
      "text/plain": [
       "<matplotlib.figure.Figure at 0x1075d71d0>"
      ]
     },
     "metadata": {},
     "output_type": "display_data"
    }
   ],
   "source": [
    "difference_VI = np.zeros(v_VI.shape[1])\n",
    "for i in range(v_VI.shape[1]):\n",
    "    difference_VI[i] = np.max(np.abs(v_VI[:,i]-V_optimal))\n",
    "plt.plot(range(200),difference_VI[0:200])"
   ]
  },
  {
   "cell_type": "code",
   "execution_count": 21,
   "metadata": {
    "collapsed": false
   },
   "outputs": [
    {
     "name": "stderr",
     "output_type": "stream",
     "text": [
      "/Users/arielhaziza/anaconda/lib/python2.7/site-packages/ipykernel/__main__.py:5: VisibleDeprecationWarning: using a non-integer number instead of an integer will result in an error in the future\n"
     ]
    }
   ],
   "source": [
    "value,M = monte_Carlo_estimation(dynamics,rewards,policy)\n",
    "    "
   ]
  },
  {
   "cell_type": "markdown",
   "metadata": {
    "collapsed": false
   },
   "source": [
    "Thus, the policy iteration (PI) converges in 5 iterations whereas the value iteration (VI) requires a little more than 100 iterations to converge. Then, PI looks like more efficient than VI. \n"
   ]
  },
  {
   "cell_type": "markdown",
   "metadata": {
    "collapsed": true
   },
   "source": [
    "Nevertheless, PI requires an admissible policy to initialize whereas it is not the case for VI. And PI is greedy so the rapidity of convergence will depend on the initialization value.\n",
    "Furthermore, PI requires at each iteration to inverse a new matrix so it has a more important computational cost than VI."
   ]
  },
  {
   "cell_type": "code",
   "execution_count": null,
   "metadata": {
    "collapsed": true
   },
   "outputs": [],
   "source": []
  }
 ],
 "metadata": {
  "kernelspec": {
   "display_name": "Python 2",
   "language": "python",
   "name": "python2"
  },
  "language_info": {
   "codemirror_mode": {
    "name": "ipython",
    "version": 2
   },
   "file_extension": ".py",
   "mimetype": "text/x-python",
   "name": "python",
   "nbconvert_exporter": "python",
   "pygments_lexer": "ipython2",
   "version": "2.7.12"
  }
 },
 "nbformat": 4,
 "nbformat_minor": 0
}
